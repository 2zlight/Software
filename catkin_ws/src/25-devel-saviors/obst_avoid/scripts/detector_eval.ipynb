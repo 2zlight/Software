{
 "cells": [
  {
   "cell_type": "code",
   "execution_count": 4,
   "metadata": {
    "scrolled": false
   },
   "outputs": [
    {
     "ename": "ROSException",
     "evalue": "rospy.init_node() has already been called with different arguments: ('obstacle_detection_node', ['/home/niggi/.local/lib/python2.7/site-packages/ipykernel_launcher.py', '-f', '/run/user/1000/jupyter/kernel-b591d6a4-2f60-4345-9a26-7d2a5af2b8b5.json'], False, None, False, True)",
     "output_type": "error",
     "traceback": [
      "\u001b[0;31m-----------------------------------------------------------------------\u001b[0m",
      "\u001b[0;31mROSException\u001b[0m                          Traceback (most recent call last)",
      "\u001b[0;32m<ipython-input-4-bfb4bdad0614>\u001b[0m in \u001b[0;36m<module>\u001b[0;34m()\u001b[0m\n\u001b[1;32m     19\u001b[0m \u001b[0;31m#this script is here to evaulate the perofrmance of our code on whole large datasets\u001b[0m\u001b[0;34m\u001b[0m\u001b[0;34m\u001b[0m\u001b[0m\n\u001b[1;32m     20\u001b[0m \u001b[0mrobot_name\u001b[0m\u001b[0;34m=\u001b[0m\u001b[0;34m'dori'\u001b[0m \u001b[0;31m#TO BE SET!!!\u001b[0m\u001b[0;34m\u001b[0m\u001b[0m\n\u001b[0;32m---> 21\u001b[0;31m \u001b[0mrospy\u001b[0m\u001b[0;34m.\u001b[0m\u001b[0minit_node\u001b[0m\u001b[0;34m(\u001b[0m\u001b[0;34m'obstacle_detection_node_'\u001b[0m\u001b[0;34m,\u001b[0m\u001b[0mdisable_signals\u001b[0m\u001b[0;34m=\u001b[0m\u001b[0mTrue\u001b[0m\u001b[0;34m)\u001b[0m\u001b[0;34m\u001b[0m\u001b[0m\n\u001b[0m\u001b[1;32m     22\u001b[0m \u001b[0mdetector\u001b[0m \u001b[0;34m=\u001b[0m \u001b[0mDetector\u001b[0m\u001b[0;34m(\u001b[0m\u001b[0mrobot_name\u001b[0m\u001b[0;34m=\u001b[0m\u001b[0mrobot_name\u001b[0m\u001b[0;34m)\u001b[0m\u001b[0;34m\u001b[0m\u001b[0m\n\u001b[1;32m     23\u001b[0m \u001b[0mintrinsics\u001b[0m \u001b[0;34m=\u001b[0m \u001b[0mload_camera_intrinsics\u001b[0m\u001b[0;34m(\u001b[0m\u001b[0mrobot_name\u001b[0m\u001b[0;34m)\u001b[0m\u001b[0;34m\u001b[0m\u001b[0m\n",
      "\u001b[0;32m/opt/ros/kinetic/lib/python2.7/dist-packages/rospy/client.pyc\u001b[0m in \u001b[0;36minit_node\u001b[0;34m(name, argv, anonymous, log_level, disable_rostime, disable_rosout, disable_signals, xmlrpc_port, tcpros_port)\u001b[0m\n\u001b[1;32m    272\u001b[0m     \u001b[0;32mif\u001b[0m \u001b[0m_init_node_args\u001b[0m\u001b[0;34m:\u001b[0m\u001b[0;34m\u001b[0m\u001b[0m\n\u001b[1;32m    273\u001b[0m         \u001b[0;32mif\u001b[0m \u001b[0m_init_node_args\u001b[0m \u001b[0;34m!=\u001b[0m \u001b[0;34m(\u001b[0m\u001b[0mname\u001b[0m\u001b[0;34m,\u001b[0m \u001b[0margv\u001b[0m\u001b[0;34m,\u001b[0m \u001b[0manonymous\u001b[0m\u001b[0;34m,\u001b[0m \u001b[0mlog_level\u001b[0m\u001b[0;34m,\u001b[0m \u001b[0mdisable_rostime\u001b[0m\u001b[0;34m,\u001b[0m \u001b[0mdisable_signals\u001b[0m\u001b[0;34m)\u001b[0m\u001b[0;34m:\u001b[0m\u001b[0;34m\u001b[0m\u001b[0m\n\u001b[0;32m--> 274\u001b[0;31m             \u001b[0;32mraise\u001b[0m \u001b[0mrospy\u001b[0m\u001b[0;34m.\u001b[0m\u001b[0mexceptions\u001b[0m\u001b[0;34m.\u001b[0m\u001b[0mROSException\u001b[0m\u001b[0;34m(\u001b[0m\u001b[0;34m\"rospy.init_node() has already been called with different arguments: \"\u001b[0m\u001b[0;34m+\u001b[0m\u001b[0mstr\u001b[0m\u001b[0;34m(\u001b[0m\u001b[0m_init_node_args\u001b[0m\u001b[0;34m)\u001b[0m\u001b[0;34m)\u001b[0m\u001b[0;34m\u001b[0m\u001b[0m\n\u001b[0m\u001b[1;32m    275\u001b[0m         \u001b[0;32melse\u001b[0m\u001b[0;34m:\u001b[0m\u001b[0;34m\u001b[0m\u001b[0m\n\u001b[1;32m    276\u001b[0m             \u001b[0;32mreturn\u001b[0m \u001b[0;31m#already initialized\u001b[0m\u001b[0;34m\u001b[0m\u001b[0m\n",
      "\u001b[0;31mROSException\u001b[0m: rospy.init_node() has already been called with different arguments: ('obstacle_detection_node', ['/home/niggi/.local/lib/python2.7/site-packages/ipykernel_launcher.py', '-f', '/run/user/1000/jupyter/kernel-b591d6a4-2f60-4345-9a26-7d2a5af2b8b5.json'], False, None, False, True)"
     ]
    }
   ],
   "source": [
    "import cv2\n",
    "import numpy as np\n",
    "from matplotlib import pyplot as plt\n",
    "import time\n",
    "import os\n",
    "import shutil\n",
    "from skimage import measure\n",
    "from duckietown_utils import load_map, load_camera_intrinsics, load_homography, rectify, rgb_from_ros\n",
    "from duckietown_utils.image_jpg_create import d8_compressed_image_from_cv_image\n",
    "from obst_avoid.detector import Detector\n",
    "from obst_avoid.visualizer import Visualizer\n",
    "from numpy.linalg import inv\n",
    "\n",
    "import rospy\n",
    "from sensor_msgs.msg import CompressedImage\n",
    "from geometry_msgs.msg import PoseArray\n",
    "from visualization_msgs.msg import MarkerArray\n",
    "import time\n",
    "#this script is here to evaulate the perofrmance of our code on whole large datasets\n",
    "robot_name='dori' #TO BE SET!!!\n",
    "rospy.init_node('obstacle_detection_node',disable_signals=True)\n",
    "detector = Detector(robot_name=robot_name)\n",
    "intrinsics = load_camera_intrinsics(robot_name)\n",
    "visualizer = Visualizer(robot_name=robot_name)\n",
    "H = load_homography(robot_name)\n",
    "\n",
    "obst_list = PoseArray()\n",
    "marker_list = MarkerArray()\n",
    "\n",
    "\n",
    "#----------------SPECIFY FILES TO READ IN ---------------------\n",
    "#ASSUMES: pictures stored in folder structure ..../3/5_pics/\"here_are_all_pics\"\n",
    "start_file=5 #represent 1_pics e.g. start_file=end_file=1 only evaluates first folder!!!\n",
    "end_file=5\n",
    "name_new_folder=\"edited\"\n",
    "general_path = '/home/niggi/savior_bags/21.12./Record6/'\n",
    "dir_path = general_path+str(start_file)+\"_pics\"+\"/\"+name_new_folder\n",
    "im_path = general_path+str(start_file)+\"_pics\"\n",
    "#print dir_path\n",
    "\n",
    "#CREATE NEW DIRECTORY\n",
    "if os.path.exists(dir_path):\n",
    "    shutil.rmtree(dir_path)\n",
    "os.makedirs(dir_path)\n",
    "#cv2.imwrite(dir+ '/' + str(i) + '.jpg',im1)\n",
    "\n",
    "nummer=1\n",
    "\n",
    "while(True):\n",
    "    filename = im_path+ '/' + str(nummer) + '.jpg'\n",
    "    im1 = cv2.imread(filename) #reads BGR\n",
    "    if (im1 is None):\n",
    "        #zum nächsten Ordner gehen!!!\n",
    "        if (start_file>end_file):\n",
    "            break\n",
    "        else:\n",
    "            start_file+=1\n",
    "            if (start_file>end_file):\n",
    "                break\n",
    "            nummer=1\n",
    "            dir_path = general_path+str(start_file)+\"_pics\"+\"/\"+name_new_folder\n",
    "            im_path = general_path+str(start_file)+\"_pics\"\n",
    "            #CREATE NEW DIRECTORY\n",
    "            if os.path.exists(dir_path):\n",
    "                shutil.rmtree(dir_path)\n",
    "            os.makedirs(dir_path)\n",
    "    \n",
    "    \n",
    "    else: #START MODIFYING THE IMAGE!!!\n",
    "        #-------------HERE GOES THE REAL CODE-----------------------------------------------------------\n",
    "        #-----------------------------------------------------------------------------------------------\n",
    "\n",
    "        obst_list = detector.process_image(rectify(im1[:,:,::-1],intrinsics))\n",
    "        obst_image = CompressedImage()\n",
    "        obst_image.format = \"jpeg\"\n",
    "        obst_image.data = visualizer.visualize_image(rectify(im1[:,:,::-1],intrinsics),obst_list)\n",
    "        #here i want to display cropped image\n",
    "        image=rgb_from_ros(obst_image.data)\n",
    "        #THIS part only to visualize the cropped version -> somehow a little inefficient but keeps\n",
    "        #the visualizer.py modular!!!\n",
    "        #plt.imshow(image[detector.crop:,:,:]);plt.show() #the cropped image\n",
    "        #plt.imshow(image);plt.show()                     #normal sized image\n",
    "        #SAVE THE IMAGE\n",
    "        conv = cv2.cvtColor(image, cv2.COLOR_RGB2BGR)\n",
    "        cv2.imwrite(dir_path+ '/' + str(nummer) + '.jpg', conv)\n",
    "        nummer+=1\n",
    "        \n",
    "\n",
    "print \"FERTIG\"\n",
    "os.system(\"rosnode kill obstacle_detection_node\")"
   ]
  },
  {
   "cell_type": "code",
   "execution_count": null,
   "metadata": {},
   "outputs": [],
   "source": []
  },
  {
   "cell_type": "code",
   "execution_count": null,
   "metadata": {},
   "outputs": [],
   "source": []
  },
  {
   "cell_type": "code",
   "execution_count": null,
   "metadata": {},
   "outputs": [],
   "source": []
  },
  {
   "cell_type": "code",
   "execution_count": null,
   "metadata": {},
   "outputs": [],
   "source": []
  },
  {
   "cell_type": "code",
   "execution_count": null,
   "metadata": {},
   "outputs": [],
   "source": []
  },
  {
   "cell_type": "code",
   "execution_count": null,
   "metadata": {},
   "outputs": [],
   "source": []
  },
  {
   "cell_type": "code",
   "execution_count": null,
   "metadata": {},
   "outputs": [],
   "source": []
  },
  {
   "cell_type": "code",
   "execution_count": null,
   "metadata": {},
   "outputs": [],
   "source": []
  },
  {
   "cell_type": "code",
   "execution_count": null,
   "metadata": {},
   "outputs": [],
   "source": []
  },
  {
   "cell_type": "code",
   "execution_count": null,
   "metadata": {},
   "outputs": [],
   "source": []
  },
  {
   "cell_type": "code",
   "execution_count": null,
   "metadata": {},
   "outputs": [],
   "source": []
  },
  {
   "cell_type": "code",
   "execution_count": null,
   "metadata": {},
   "outputs": [],
   "source": []
  },
  {
   "cell_type": "code",
   "execution_count": null,
   "metadata": {},
   "outputs": [],
   "source": [
    "conv = cv2.cvtColor(funky_rgb, cv2.COLOR_RGB2BGR)\n",
    "cv2.imwrite( 'data/funky_rgb.png', conv)"
   ]
  }
 ],
 "metadata": {
  "kernelspec": {
   "display_name": "Python 2",
   "language": "python",
   "name": "python2"
  },
  "language_info": {
   "codemirror_mode": {
    "name": "ipython",
    "version": 2
   },
   "file_extension": ".py",
   "mimetype": "text/x-python",
   "name": "python",
   "nbconvert_exporter": "python",
   "pygments_lexer": "ipython2",
   "version": "2.7.12"
  }
 },
 "nbformat": 4,
 "nbformat_minor": 2
}
