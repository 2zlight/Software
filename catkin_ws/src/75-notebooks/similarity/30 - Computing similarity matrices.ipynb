{
 "cells": [
  {
   "cell_type": "code",
   "execution_count": null,
   "metadata": {},
   "outputs": [],
   "source": [
    "dirname = 'logs/thumbnails1'"
   ]
  },
  {
   "cell_type": "code",
   "execution_count": null,
   "metadata": {},
   "outputs": [],
   "source": [
    "from duckietown_utils import locate_files\n",
    "locate_files(dirname, 'image-*.jpg')"
   ]
  },
  {
   "cell_type": "code",
   "execution_count": null,
   "metadata": {},
   "outputs": [],
   "source": [
    "from duckietown_utils import image_cv_from_jpg_fn\n",
    "def load_images_rgb(dirname):\n",
    "    files = locate_files(dirname, 'image-*jpg')\n",
    "    files = sorted(files)\n",
    "    images = [image_cv_from_jpg_fn(f) for f in files]\n",
    "    images = [rgb_from_bgr(_) for _ in images]\n",
    "    return images"
   ]
  },
  {
   "cell_type": "code",
   "execution_count": null,
   "metadata": {},
   "outputs": [],
   "source": [
    "images = load_images_rgb(dirname)"
   ]
  },
  {
   "cell_type": "code",
   "execution_count": null,
   "metadata": {},
   "outputs": [],
   "source": [
    "print('Loaded %d images; resolution is %s' % (len(images), images[0].shape))"
   ]
  },
  {
   "cell_type": "code",
   "execution_count": null,
   "metadata": {},
   "outputs": [],
   "source": [
    "from matplotlib import pyplot\n",
    "import numpy as np\n",
    "\n",
    "A = images[0]\n",
    "B = images[1]\n",
    "\n",
    "diff = 128 + (A.astype('float') - B.astype('float'))/2\n",
    "diff = diff.astype('uint8')\n",
    "\n",
    "x = np.hstack((A, B, diff))\n",
    "\n",
    "pyplot.imshow(x);\n",
    "pyplot.show()"
   ]
  },
  {
   "cell_type": "code",
   "execution_count": null,
   "metadata": {},
   "outputs": [],
   "source": [
    "def get_similarity_matrix(images, phi, distance):\n",
    "    n = len(images)    \n",
    "    descriptors = [phi(image) for image in images]\n",
    "    A = np.zeros((n,n))\n",
    "    interval = n / 10\n",
    "    for i in range(n):\n",
    "        if i % interval == 0:\n",
    "            print('%d/%d' % (i, n))\n",
    "        for j in range(n):\n",
    "            if i <= j:\n",
    "                d = distance(descriptors[i], descriptors[j])\n",
    "                A[i,j] = d\n",
    "                A[j,i] = d\n",
    "    return A"
   ]
  },
  {
   "cell_type": "code",
   "execution_count": null,
   "metadata": {},
   "outputs": [],
   "source": [
    "\n",
    "from duckietown_utils import d8_image_zoom_linear\n",
    "\n",
    "def phi_resize(x):\n",
    "    x = d8_image_zoom_linear(x, 1/16.0)\n",
    "    return x.astype('float32')\n",
    "\n",
    "def distance_L1(a,b):\n",
    "    return np.mean(np.fabs(a-b))\n"
   ]
  },
  {
   "cell_type": "code",
   "execution_count": null,
   "metadata": {},
   "outputs": [],
   "source": [
    "A = get_similarity_matrix(images, phi_resize, distance_L1)"
   ]
  },
  {
   "cell_type": "code",
   "execution_count": null,
   "metadata": {},
   "outputs": [],
   "source": [
    "pyplot.figure()\n",
    "pyplot.imshow(A)\n",
    "pyplot.show()"
   ]
  },
  {
   "cell_type": "code",
   "execution_count": null,
   "metadata": {},
   "outputs": [],
   "source": [
    "pyplot.figure()\n",
    "pyplot.plot(A[100,:])\n",
    "pyplot.show()"
   ]
  },
  {
   "cell_type": "code",
   "execution_count": null,
   "metadata": {},
   "outputs": [],
   "source": []
  }
 ],
 "metadata": {
  "kernelspec": {
   "display_name": "Python 2",
   "language": "python",
   "name": "python2"
  },
  "language_info": {
   "codemirror_mode": {
    "name": "ipython",
    "version": 2
   },
   "file_extension": ".py",
   "mimetype": "text/x-python",
   "name": "python",
   "nbconvert_exporter": "python",
   "pygments_lexer": "ipython2",
   "version": "2.7.12"
  }
 },
 "nbformat": 4,
 "nbformat_minor": 2
}
