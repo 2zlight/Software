{
 "cells": [
  {
   "cell_type": "code",
   "execution_count": 9,
   "metadata": {
    "collapsed": true
   },
   "outputs": [
    {
     "name": "stdout",
     "output_type": "stream",
     "text": [
      "['x', 'y', 'type     ', 'rotation']\n['0', '0', 'empty', '0']\n['0', '1', 'turn', '270']\n['0', '2', 'straight', '90']\n['0', '3', '3way', '270']\n['0', '4', 'straight', '90']\n['0', '5', 'turn', '180']\n['1', '0', 'turn', '270']\n['1', '1', 'turn', '90']\n['1', '2', 'empty', '0']\n['1', '3', 'straight', '0']\n['1', '4', 'empty', '0']\n['1', '5', 'straight', '0']\n['2', '0', 'straight', '0']\n['2', '1', 'empty', '0']\n['2', '2', 'empty', '0']\n['2', '3', '3way', '0']\n['2', '4', 'straight', '90']\n['2', '5', '3way', '180']\n['3', '0', 'straight', '0']\n['3', '1', 'empty', '0']\n['3', '2', 'empty', '0']\n['3', '3', 'straight', '0']\n['3', '4', 'empty', '0']\n['3', '5', 'straight', '0']\n['4', '0', 'turn', '0']\n['4', '1', 'straight', '90']\n['4', '2', 'straight', '90']\n['4', '3', '3way', '90']\n['4', '4', 'straight', '90']\n['4', '5', 'turn', '90']\n"
     ]
    }
   ],
   "source": [
    "import os\n",
    "import csv\n",
    "# load csv\n",
    "script_dir = '../../src/'\n",
    "csv_filename = 'tiles_lab'\n",
    "map_path = os.path.abspath(script_dir + '/maps/' + csv_filename + '.csv')\n",
    "\n"
   ]
  },
  {
   "cell_type": "code",
   "execution_count": 11,
   "metadata": {},
   "outputs": [],
   "source": [
    "class IntersectionMapping:\n",
    "    tile_location = None\n",
    "    tile_rotation = None\n",
    "    tile_name = None\n",
    "    graph_node_name = None\n",
    "    tile_length\n",
    "    \n",
    "    def __init__(self, location, rotation, name):\n",
    "        self.tile_location = location\n",
    "        self.tile_rotation = rotation\n",
    "        self.tile_name = name\n",
    "    \n",
    "\n",
    "class IntersectionMapper:\n",
    "    intersection_mappings = None\n",
    "    \n",
    "    def __init__(self, csv_map_path):\n",
    "        # get intersections from file\n",
    "        with open(csv_map_path, 'rb') as f: \n",
    "            reader = csv.reader(f, skipinitialspace=True)\n",
    "    \n",
    "        intersections_csv = []\n",
    "        for row in reader:\n",
    "            if 'way' in row[3]:\n",
    "                intersections.append(row)\n",
    "                \n",
    "        parse_intersections(intersections_csv)\n",
    "        \n",
    "    def parse_intersections(self, intersections_csv):\n",
    "        for inters in intersections_csv:\n",
    "            loc = [int(x) for x in inters[0:2]]\n",
    "            rot = int(inters[2])\n",
    "            name = inters[3]\n",
    "            self.intersection_mappings.append(IntersectionMapping(loc, rot, name))\n"
   ]
  },
  {
   "cell_type": "code",
   "execution_count": null,
   "metadata": {},
   "outputs": [],
   "source": []
  }
 ],
 "metadata": {
  "kernelspec": {
   "display_name": "Python 2",
   "language": "python",
   "name": "python2"
  },
  "language_info": {
   "codemirror_mode": {
    "name": "ipython",
    "version": 2
   },
   "file_extension": ".py",
   "mimetype": "text/x-python",
   "name": "python",
   "nbconvert_exporter": "python",
   "pygments_lexer": "ipython2",
   "version": "2.7.12"
  }
 },
 "nbformat": 4,
 "nbformat_minor": 2
}
