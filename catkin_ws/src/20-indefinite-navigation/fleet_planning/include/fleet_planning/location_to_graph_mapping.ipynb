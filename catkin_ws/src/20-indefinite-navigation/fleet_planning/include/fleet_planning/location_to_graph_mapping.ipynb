{
 "cells": [
  {
   "cell_type": "code",
   "execution_count": null,
   "metadata": {
    "collapsed": true
   },
   "outputs": [],
   "source": [
    "import os\n",
    "import csv\n",
    "import numpy as np\n",
    "from generate_duckietown_map import Tile\n",
    "# load csv\n",
    "script_dir = '../../src/'\n",
    "csv_filename = 'tiles_lab'\n",
    "map_path = os.path.abspath(script_dir + '/maps/' + csv_filename + '.csv')\n",
    "\n"
   ]
  },
  {
   "cell_type": "code",
   "execution_count": null,
   "metadata": {},
   "outputs": [
    {
     "ename": "NameError",
     "evalue": "name 'tile_length' is not defined",
     "traceback": [
      "\u001b[0;31m---------------------------------------------------------------------------\u001b[0m",
      "\u001b[0;31mNameError\u001b[0m                                 Traceback (most recent call last)",
      "\u001b[0;32m<ipython-input-2-cad83a524139>\u001b[0m in \u001b[0;36m<module>\u001b[0;34m()\u001b[0m\n\u001b[0;32m----> 1\u001b[0;31m \u001b[0;32mclass\u001b[0m \u001b[0mIntersectionMapping\u001b[0m\u001b[0;34m:\u001b[0m\u001b[0;34m\u001b[0m\u001b[0m\n\u001b[0m\u001b[1;32m      2\u001b[0m     \u001b[0mtile_location\u001b[0m \u001b[0;34m=\u001b[0m \u001b[0mNone\u001b[0m\u001b[0;34m\u001b[0m\u001b[0m\n\u001b[1;32m      3\u001b[0m     \u001b[0mtile_rotation\u001b[0m \u001b[0;34m=\u001b[0m \u001b[0mNone\u001b[0m\u001b[0;34m\u001b[0m\u001b[0m\n\u001b[1;32m      4\u001b[0m     \u001b[0mtile_name\u001b[0m \u001b[0;34m=\u001b[0m \u001b[0mNone\u001b[0m\u001b[0;34m\u001b[0m\u001b[0m\n\u001b[1;32m      5\u001b[0m     \u001b[0mgraph_node_name\u001b[0m \u001b[0;34m=\u001b[0m \u001b[0mNone\u001b[0m\u001b[0;34m\u001b[0m\u001b[0m\n",
      "\u001b[0;32m<ipython-input-2-cad83a524139>\u001b[0m in \u001b[0;36mIntersectionMapping\u001b[0;34m()\u001b[0m\n\u001b[1;32m      4\u001b[0m     \u001b[0mtile_name\u001b[0m \u001b[0;34m=\u001b[0m \u001b[0mNone\u001b[0m\u001b[0;34m\u001b[0m\u001b[0m\n\u001b[1;32m      5\u001b[0m     \u001b[0mgraph_node_name\u001b[0m \u001b[0;34m=\u001b[0m \u001b[0mNone\u001b[0m\u001b[0;34m\u001b[0m\u001b[0m\n\u001b[0;32m----> 6\u001b[0;31m     \u001b[0mtile_length\u001b[0m\u001b[0;34m\u001b[0m\u001b[0m\n\u001b[0m\u001b[1;32m      7\u001b[0m \u001b[0;34m\u001b[0m\u001b[0m\n\u001b[1;32m      8\u001b[0m     \u001b[0;32mdef\u001b[0m \u001b[0m__init__\u001b[0m\u001b[0;34m(\u001b[0m\u001b[0mself\u001b[0m\u001b[0;34m,\u001b[0m \u001b[0mlocation\u001b[0m\u001b[0;34m,\u001b[0m \u001b[0mrotation\u001b[0m\u001b[0;34m,\u001b[0m \u001b[0mname\u001b[0m\u001b[0;34m)\u001b[0m\u001b[0;34m:\u001b[0m\u001b[0;34m\u001b[0m\u001b[0m\n",
      "\u001b[0;31mNameError\u001b[0m: name 'tile_length' is not defined"
     ],
     "output_type": "error"
    }
   ],
   "source": [
    "class MappingTile(Tile):\n",
    "    tile_length = 200 # TODO: get this number\n",
    "    \n",
    "    @property\n",
    "    def tile_center_location(self): \n",
    "        return [self.x + self.tile_length/2.0, self.y + self.tile_length/2.0] \n",
    "    \n",
    "    def distance_to(self, position_2d):\n",
    "        return np.sqrt(np.sum(np.square(self.tile_center_location - position_2d)))\n",
    "    \n",
    "    def node_from_duckiebot_rotation(self, db_rotation):\n",
    "        diff_rotation = (db_rotation - self.rotation) % 360\n",
    "        \n",
    "        if diff_rotation == 0:\n",
    "            return self.node5.n\n",
    "        elif diff_rotation == 90:\n",
    "            return self.node3.n\n",
    "        elif diff_rotation == 180:\n",
    "            return self.node1.n\n",
    "        elif diff_rotation == 270:\n",
    "            return self.node7.n\n",
    "        \n",
    "        \n",
    "class IntersectionMapper:\n",
    "    intersection_mappings = None\n",
    "    max_radius = 1 # in tile lenghts. If the 2d position is within this radius, it will be assign to this intersection. Must be <= 1.\n",
    "    \n",
    "    def __init__(self, csv_map_path):\n",
    "        # get intersections from file\n",
    "        with open(csv_map_path, 'rb') as f: \n",
    "            reader = csv.reader(f, skipinitialspace=True)\n",
    "    \n",
    "        intersections_csv = []\n",
    "        for row in reader:\n",
    "            if 'way' in row[3]:\n",
    "                intersections.append(row)\n",
    "                \n",
    "        self._parse_intersections(intersections_csv)\n",
    "        \n",
    "    def _parse_intersections(self, intersections_csv):\n",
    "        for inters in intersections_csv:\n",
    "            loc = [int(x) for x in inters[0:2]]\n",
    "            rot = int(inters[2])\n",
    "            name = inters[3]\n",
    "            self.intersection_mappings.append(IntersectionMapping(loc, rot, name))\n",
    "            \n",
    "    def get_node_name(self, position_2d, orientation):\n",
    "        \"\"\"\n",
    "        given a position and a rotation of a duckiebot that is at a stop line (not checked), \n",
    "        it return the corresponding node on the graph.\n",
    "        :param position_2d: [x,y]\n",
    "        :param orientation: rotation on map, a float\n",
    "        :return: node number as int\n",
    "        \"\"\"\n",
    "        for intersection in self.intersection_mappings:\n",
    "            if intersection.distance_to(position_2d) < r:\n",
    "                return intersection.node_from_duckiebot_rotation(orientation)\n",
    "                \n",
    "        return None\n",
    "        \n",
    "        \n"
   ]
  },
  {
   "cell_type": "code",
   "execution_count": null,
   "metadata": {},
   "outputs": [],
   "source": []
  }
 ],
 "metadata": {
  "kernelspec": {
   "display_name": "Python 2",
   "language": "python",
   "name": "python2"
  },
  "language_info": {
   "codemirror_mode": {
    "name": "ipython",
    "version": 2
   },
   "file_extension": ".py",
   "mimetype": "text/x-python",
   "name": "python",
   "nbconvert_exporter": "python",
   "pygments_lexer": "ipython2",
   "version": "2.7.12"
  }
 },
 "nbformat": 4,
 "nbformat_minor": 2
}
