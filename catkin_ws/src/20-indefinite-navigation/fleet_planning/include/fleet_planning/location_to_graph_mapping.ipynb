{
 "cells": [
  {
   "cell_type": "code",
   "execution_count": 7,
   "metadata": {
    "collapsed": true
   },
   "outputs": [
    {
     "ename": "ImportError",
     "evalue": "No module named generate_duckietown_map",
     "traceback": [
      "\u001b[0;31m---------------------------------------------------------------------------\u001b[0m",
      "\u001b[0;31mImportError\u001b[0m                               Traceback (most recent call last)",
      "\u001b[0;32m<ipython-input-7-6257065329b7>\u001b[0m in \u001b[0;36m<module>\u001b[0;34m()\u001b[0m\n\u001b[1;32m      2\u001b[0m \u001b[0;32mimport\u001b[0m \u001b[0mcsv\u001b[0m\u001b[0;34m\u001b[0m\u001b[0m\n\u001b[1;32m      3\u001b[0m \u001b[0;32mimport\u001b[0m \u001b[0mnumpy\u001b[0m \u001b[0;32mas\u001b[0m \u001b[0mnp\u001b[0m\u001b[0;34m\u001b[0m\u001b[0m\n\u001b[0;32m----> 4\u001b[0;31m \u001b[0;32mfrom\u001b[0m \u001b[0mgenerate_duckietown_map\u001b[0m \u001b[0;32mimport\u001b[0m \u001b[0mTile\u001b[0m\u001b[0;34m,\u001b[0m \u001b[0mgraph_creator\u001b[0m\u001b[0;34m\u001b[0m\u001b[0m\n\u001b[0m\u001b[1;32m      5\u001b[0m \u001b[0;31m# load csv\u001b[0m\u001b[0;34m\u001b[0m\u001b[0;34m\u001b[0m\u001b[0m\n\u001b[1;32m      6\u001b[0m \u001b[0mscript_dir\u001b[0m \u001b[0;34m=\u001b[0m \u001b[0;34m'../../src/'\u001b[0m\u001b[0;34m\u001b[0m\u001b[0m\n",
      "\u001b[0;31mImportError\u001b[0m: No module named generate_duckietown_map"
     ],
     "output_type": "error"
    }
   ],
   "source": [
    "import os\n",
    "import numpy as np\n",
    "from generate_duckietown_map import Tile, graph_creator\n",
    "# load csv\n",
    "script_dir = '../../src/'\n",
    "csv_filename = 'tiles_lab'\n",
    "map_path = os.path.abspath(script_dir + '/maps/' + csv_filename + '.csv')\n",
    "\n",
    "gc = graph_creator()\n",
    "graph = gc.build_graph_from_csv(script_dir, csv_filename)\n"
   ]
  },
  {
   "cell_type": "code",
   "execution_count": 1,
   "metadata": {},
   "outputs": [
    {
     "ename": "NameError",
     "evalue": "name 'Tile' is not defined",
     "traceback": [
      "\u001b[0;31m---------------------------------------------------------------------------\u001b[0m",
      "\u001b[0;31mNameError\u001b[0m                                 Traceback (most recent call last)",
      "\u001b[0;32m<ipython-input-1-740255b9f79b>\u001b[0m in \u001b[0;36m<module>\u001b[0;34m()\u001b[0m\n\u001b[0;32m----> 1\u001b[0;31m \u001b[0;32mclass\u001b[0m \u001b[0mMappingTile\u001b[0m\u001b[0;34m(\u001b[0m\u001b[0mTile\u001b[0m\u001b[0;34m)\u001b[0m\u001b[0;34m:\u001b[0m\u001b[0;34m\u001b[0m\u001b[0m\n\u001b[0m\u001b[1;32m      2\u001b[0m     \u001b[0mtile_length\u001b[0m \u001b[0;34m=\u001b[0m \u001b[0;36m200\u001b[0m \u001b[0;31m# TODO: get this number\u001b[0m\u001b[0;34m\u001b[0m\u001b[0m\n\u001b[1;32m      3\u001b[0m \u001b[0;34m\u001b[0m\u001b[0m\n\u001b[1;32m      4\u001b[0m     \u001b[0;34m@\u001b[0m\u001b[0mproperty\u001b[0m\u001b[0;34m\u001b[0m\u001b[0m\n\u001b[1;32m      5\u001b[0m     \u001b[0;32mdef\u001b[0m \u001b[0mtile_center_location\u001b[0m\u001b[0;34m(\u001b[0m\u001b[0mself\u001b[0m\u001b[0;34m)\u001b[0m\u001b[0;34m:\u001b[0m\u001b[0;34m\u001b[0m\u001b[0m\n",
      "\u001b[0;31mNameError\u001b[0m: name 'Tile' is not defined"
     ],
     "output_type": "error"
    }
   ],
   "source": [
    "class MappingTile:\n",
    "    tile_length = 200 # TODO: get this number\n",
    "    _tile = None\n",
    "    \n",
    "    def __init__(self, tile):\n",
    "        self._tile = tile\n",
    "    \n",
    "    @property\n",
    "    def tile_center_location(self): \n",
    "        return [self.tile.x + self.tile_length/2.0, self.tile.y + self.tile_length/2.0] \n",
    "    \n",
    "    def distance_to(self, position_2d):\n",
    "        return np.sqrt(np.sum(np.square(self.tile_center_location - position_2d)))\n",
    "    \n",
    "    def node_from_duckiebot_rotation(self, db_rotation):\n",
    "        diff_rotation = (db_rotation - self.tile.rotation) % 360\n",
    "        \n",
    "        if diff_rotation == 0:\n",
    "            return self.tile.node5.n\n",
    "        elif diff_rotation == 90:\n",
    "            return self.tile.node3.n\n",
    "        elif diff_rotation == 180:\n",
    "            return self.tile.node1.n\n",
    "        elif diff_rotation == 270:\n",
    "            return self.tile.node7.n\n",
    "        \n",
    "        \n",
    "class IntersectionMapper:\n",
    "    mapping_tiles = None\n",
    "    max_radius = 1 # in tile lenghts. If the 2d position is within this radius, it will be assign to this intersection. Must be <= 1.\n",
    "    \n",
    "    def __init__(self, graph_creator):\n",
    "        for tile in graph_creator.tile_map:\n",
    "            mapping_tiles.append(MappingTile(tile))\n",
    "            \n",
    "    def get_node_name(self, position_2d, orientation):\n",
    "        \"\"\"\n",
    "        given a position and a rotation of a duckiebot that is at a stop line (not checked), \n",
    "        it returns the corresponding node on the graph.\n",
    "        :param position_2d: [x,y]\n",
    "        :param orientation: rotation on map, a float\n",
    "        :return: node number as int\n",
    "        \"\"\"\n",
    "        for intersection in self.mapping_tiles:\n",
    "            if intersection.distance_to(position_2d) < r:\n",
    "                return intersection.node_from_duckiebot_rotation(orientation)\n",
    "                \n",
    "        return None\n"
   ]
  },
  {
   "cell_type": "code",
   "execution_count": null,
   "metadata": {},
   "outputs": [],
   "source": []
  }
 ],
 "metadata": {
  "kernelspec": {
   "display_name": "Python 2",
   "language": "python",
   "name": "python2"
  },
  "language_info": {
   "codemirror_mode": {
    "name": "ipython",
    "version": 2
   },
   "file_extension": ".py",
   "mimetype": "text/x-python",
   "name": "python",
   "nbconvert_exporter": "python",
   "pygments_lexer": "ipython2",
   "version": "2.7.12"
  }
 },
 "nbformat": 4,
 "nbformat_minor": 2
}
